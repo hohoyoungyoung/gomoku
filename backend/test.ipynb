{
 "cells": [
  {
   "cell_type": "code",
   "execution_count": 1,
   "id": "dc6b42b7",
   "metadata": {},
   "outputs": [
    {
     "name": "stdout",
     "output_type": "stream",
     "text": [
      "Best move: (9, 9)\n"
     ]
    }
   ],
   "source": [
    "import numpy as np\n",
    "import copy\n",
    "\n",
    "def evaluate_board(board, player):\n",
    "    score = 0\n",
    "    opponent = 1 if player == 2 else 2\n",
    "    for i in range(19):\n",
    "        for j in range(19):\n",
    "            if j <= 14:\n",
    "                pattern = board[i, j:j + 5]\n",
    "                score += get_score_from_pattern(pattern, player, opponent)\n",
    "            if i <= 14:\n",
    "                pattern = board[i:i + 5, j]\n",
    "                score += get_score_from_pattern(pattern, player, opponent)\n",
    "            if i <= 14 and j <= 14:\n",
    "                pattern = np.diag(board[i:i + 5, j:j + 5])\n",
    "                score += get_score_from_pattern(pattern, player, opponent)\n",
    "            if i <= 14 and j >= 4:\n",
    "                pattern = np.diag(np.fliplr(board[i:i + 5, j - 4:j + 1]))\n",
    "                score += get_score_from_pattern(pattern, player, opponent)\n",
    "    return score\n",
    "\n",
    "def get_score_from_pattern(pattern, player, opponent):\n",
    "    score = 0\n",
    "    player_count = pattern.tolist().count(player)\n",
    "    opponent_count = pattern.tolist().count(opponent)\n",
    "\n",
    "    if opponent_count == 0:\n",
    "        if player_count == 5:\n",
    "            score += 100000\n",
    "        elif player_count == 4:\n",
    "            score += 10000\n",
    "        elif player_count == 3:\n",
    "            score += 1000\n",
    "        elif player_count == 2:\n",
    "            score += 100\n",
    "        elif player_count == 1:\n",
    "            score += 10\n",
    "    \n",
    "    elif player_count == 0:\n",
    "        if opponent_count == 5:\n",
    "            score -= 150000\n",
    "        elif opponent_count == 4:\n",
    "            score -= 15000 \n",
    "        elif opponent_count == 3:\n",
    "            score -= 1500\n",
    "        elif opponent_count == 2:\n",
    "            score -= 150   \n",
    "        elif opponent_count == 1:\n",
    "            score -= 15 \n",
    "\n",
    "    return score\n",
    "\n",
    "\n",
    "def get_mini_max_move(board):\n",
    "    if np.sum(board) == 0:\n",
    "        return (9, 9)\n",
    "\n",
    "    able_positions = set()\n",
    "    directions = [(1, 0), (0, 1), (1, 1), (1, -1), (-1, 0), (0, -1), (-1, -1), (-1, 1)]\n",
    "\n",
    "    for i in range(19):\n",
    "        for j in range(19):\n",
    "            if board[i, j] != 0:\n",
    "                for dx, dy in directions:\n",
    "                    for dist in range(1, 2):\n",
    "                        nx, ny = i + dx * dist, j + dy * dist\n",
    "                        if 0 <= nx < 19 and 0 <= ny < 19 and board[nx, ny] == 0:\n",
    "                            able_positions.add((nx, ny))\n",
    "\n",
    "    best_score = float('-inf')\n",
    "    best_move = None\n",
    "\n",
    "    for x, y in able_positions:\n",
    "        new_board = copy.deepcopy(board)\n",
    "        new_board[x, y] = 1\n",
    "        score1 = evaluate_board(new_board, 1)\n",
    "\n",
    "        able_positions2 = set()\n",
    "        for i in range(19):\n",
    "            for j in range(19):\n",
    "                if new_board[i, j] != 0:\n",
    "                    for dx, dy in directions:\n",
    "                        for dist in range(1, 2):\n",
    "                            nx, ny = i + dx * dist, j + dy * dist\n",
    "                            if 0 <= nx < 19 and 0 <= ny < 19 and new_board[nx, ny] == 0:\n",
    "                                able_positions2.add((nx, ny))\n",
    "\n",
    "        score2 = 0        \n",
    "        for nx, ny in able_positions2:\n",
    "            new_board2 = copy.deepcopy(new_board)\n",
    "            new_board2[nx, ny] = 2\n",
    "            score2 = min(score2, evaluate_board(new_board2, 2))\n",
    "            \n",
    "        score = score1 + score2\n",
    "        if score > best_score:\n",
    "            best_score = score\n",
    "            best_move = (x, y)\n",
    "\n",
    "    return best_move\n",
    "\n",
    "\n",
    "\n",
    "if __name__ == \"__main__\":\n",
    "    import numpy as np\n",
    "\n",
    "    # 테스트용 빈 보드 생성\n",
    "    board = np.zeros((19, 19), dtype=int)\n",
    "    #board[10,10] = 1\n",
    "    \n",
    "    # get_mini_max_move 함수 실행\n",
    "    move = get_mini_max_move(board)\n",
    "    print(\"Best move:\", move)"
   ]
  },
  {
   "cell_type": "code",
   "execution_count": null,
   "id": "db36c197",
   "metadata": {},
   "outputs": [],
   "source": []
  },
  {
   "cell_type": "code",
   "execution_count": 1,
   "id": "f6f4c5cb",
   "metadata": {},
   "outputs": [
    {
     "name": "stderr",
     "output_type": "stream",
     "text": [
      "2025-05-13 19:39:39.187170: I tensorflow/core/util/port.cc:110] oneDNN custom operations are on. You may see slightly different numerical results due to floating-point round-off errors from different computation orders. To turn them off, set the environment variable `TF_ENABLE_ONEDNN_OPTS=0`.\n",
      "2025-05-13 19:39:39.463981: I tensorflow/tsl/cuda/cudart_stub.cc:28] Could not find cuda drivers on your machine, GPU will not be used.\n",
      "2025-05-13 19:39:40.305791: I tensorflow/tsl/cuda/cudart_stub.cc:28] Could not find cuda drivers on your machine, GPU will not be used.\n",
      "2025-05-13 19:39:40.308213: I tensorflow/core/platform/cpu_feature_guard.cc:182] This TensorFlow binary is optimized to use available CPU instructions in performance-critical operations.\n",
      "To enable the following instructions: AVX2 AVX512F AVX512_VNNI FMA, in other operations, rebuild TensorFlow with the appropriate compiler flags.\n",
      "2025-05-13 19:39:43.677145: W tensorflow/compiler/tf2tensorrt/utils/py_utils.cc:38] TF-TRT Warning: Could not find TensorRT\n"
     ]
    }
   ],
   "source": [
    "import numpy as np\n",
    "from tensorflow.keras.models import load_model\n",
    "import tensorflow as tf"
   ]
  },
  {
   "cell_type": "code",
   "execution_count": 2,
   "id": "7af4df60",
   "metadata": {},
   "outputs": [
    {
     "name": "stderr",
     "output_type": "stream",
     "text": [
      "2025-05-13 19:39:50.686892: W tensorflow/core/common_runtime/gpu/gpu_device.cc:1960] Cannot dlopen some GPU libraries. Please make sure the missing libraries mentioned above are installed properly if you would like to use GPU. Follow the guide at https://www.tensorflow.org/install/gpu for how to download and setup the required libraries for your platform.\n",
      "Skipping registering GPU devices...\n"
     ]
    }
   ],
   "source": [
    "model = load_model('/home/jinjinjara1022/gomoku/backend/app/strategies/model_weight/best.h5')"
   ]
  },
  {
   "cell_type": "code",
   "execution_count": 3,
   "id": "f404c5eb",
   "metadata": {},
   "outputs": [],
   "source": [
    "grid = np.zeros((19, 19), dtype=int)\n",
    "input_ = np.expand_dims(grid, axis=(0, -1)).astype(np.float32)\n",
    "output = model.predict(input_, verbose=0).squeeze()\n",
    "output = output.reshape((19, 19))\n",
    "output_y, output_x = np.unravel_index(np.argmax(output), output.shape)"
   ]
  },
  {
   "cell_type": "code",
   "execution_count": 4,
   "id": "e684f1fb",
   "metadata": {},
   "outputs": [
    {
     "name": "stdout",
     "output_type": "stream",
     "text": [
      "9 9\n"
     ]
    }
   ],
   "source": [
    "print(output_y, output_x)"
   ]
  },
  {
   "cell_type": "code",
   "execution_count": null,
   "id": "d44c72e3",
   "metadata": {},
   "outputs": [],
   "source": []
  }
 ],
 "metadata": {
  "kernelspec": {
   "display_name": "tf-gpu2",
   "language": "python",
   "name": "python3"
  },
  "language_info": {
   "codemirror_mode": {
    "name": "ipython",
    "version": 3
   },
   "file_extension": ".py",
   "mimetype": "text/x-python",
   "name": "python",
   "nbconvert_exporter": "python",
   "pygments_lexer": "ipython3",
   "version": "3.8.20"
  }
 },
 "nbformat": 4,
 "nbformat_minor": 5
}
