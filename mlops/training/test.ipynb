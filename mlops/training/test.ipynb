{
 "cells": [
  {
   "cell_type": "code",
   "execution_count": 4,
   "id": "ebd4e832",
   "metadata": {},
   "outputs": [
    {
     "name": "stderr",
     "output_type": "stream",
     "text": [
      "2025-05-14 14:11:23.332358: W tensorflow/core/common_runtime/gpu/gpu_device.cc:1960] Cannot dlopen some GPU libraries. Please make sure the missing libraries mentioned above are installed properly if you would like to use GPU. Follow the guide at https://www.tensorflow.org/install/gpu for how to download and setup the required libraries for your platform.\n",
      "Skipping registering GPU devices...\n"
     ]
    },
    {
     "name": "stdout",
     "output_type": "stream",
     "text": [
      "\n",
      "\n",
      " Running on multiple GPUs  []\n",
      "Epoch 1/10\n"
     ]
    },
    {
     "name": "stderr",
     "output_type": "stream",
     "text": [
      "2025-05-14 14:11:23.767305: W tensorflow/core/framework/dataset.cc:956] Input of GeneratorDatasetOp::Dataset will not be optimized because the dataset does not implement the AsGraphDefInternal() method needed to apply optimizations.\n"
     ]
    },
    {
     "name": "stdout",
     "output_type": "stream",
     "text": [
      "1/1 [==============================] - 1s 1s/step - loss: 0.0271 - acc: 0.2821 - lr: 1.0000e-04\n",
      "Epoch 2/10\n",
      "1/1 [==============================] - 0s 147ms/step - loss: 0.0255 - acc: 0.2821 - lr: 1.0000e-04\n",
      "Epoch 3/10\n",
      "1/1 [==============================] - 0s 140ms/step - loss: 0.0241 - acc: 0.2821 - lr: 1.0000e-04\n",
      "Epoch 4/10\n",
      "1/1 [==============================] - 0s 152ms/step - loss: 0.0228 - acc: 0.2821 - lr: 1.0000e-04\n",
      "Epoch 5/10\n",
      "1/1 [==============================] - 0s 173ms/step - loss: 0.0215 - acc: 0.2821 - lr: 1.0000e-04\n",
      "Epoch 6/10\n",
      "1/1 [==============================] - 0s 168ms/step - loss: 0.0203 - acc: 0.3077 - lr: 1.0000e-04\n",
      "Epoch 7/10\n",
      "1/1 [==============================] - 0s 157ms/step - loss: 0.0191 - acc: 0.3077 - lr: 1.0000e-04\n",
      "Epoch 8/10\n",
      "1/1 [==============================] - 0s 145ms/step - loss: 0.0181 - acc: 0.3333 - lr: 1.0000e-04\n",
      "Epoch 9/10\n",
      "1/1 [==============================] - 0s 145ms/step - loss: 0.0171 - acc: 0.3333 - lr: 1.0000e-04\n",
      "Epoch 10/10\n",
      "1/1 [==============================] - 0s 136ms/step - loss: 0.0161 - acc: 0.3590 - lr: 1.0000e-04\n",
      "▶ Fine-tuned model saved to models/fine_tuned_20250514_141126.h5\n"
     ]
    }
   ],
   "source": [
    "import warnings\n",
    "import os\n",
    "warnings.filterwarnings(\"ignore\")\n",
    "os.environ['TF_CPP_MIN_LOG_LEVEL'] = '0'\n",
    "\n",
    "import tensorflow as tf\n",
    "tf.get_logger().setLevel('ERROR')\n",
    "from tensorflow.keras.models import load_model\n",
    "import tensorflow.keras as keras\n",
    "from tensorflow.keras import layers, models\n",
    "import numpy as np\n",
    "from sklearn.model_selection import train_test_split\n",
    "from glob import glob\n",
    "from tqdm import tqdm\n",
    "from datetime import datetime\n",
    "from tensorflow.keras.callbacks import ModelCheckpoint, ReduceLROnPlateau\n",
    "\n",
    "\n",
    "X = np.load('./train_data/X_player.npy').astype(np.float32)[..., np.newaxis]\n",
    "y = np.load('./train_data/y_player.npy').astype(np.float32)\n",
    "\n",
    "y = y.reshape(y.shape[0], -1).astype(np.float32)\n",
    "\n",
    "gpus = tf.config.experimental.list_logical_devices('GPU')\n",
    "strategy = tf.distribute.MirroredStrategy([gpu.name for gpu in gpus])\n",
    "print('\\n\\n Running on multiple GPUs ', [gpu.name for gpu in gpus])\n",
    "\n",
    "with strategy.scope():\n",
    "    model = load_model('/home/jinjinjara1022/OmokAI/models/best.h5')\n",
    "    # (선택) 일부 레이어 동결\n",
    "    # for layer in model.layers[:-2]:\n",
    "    #     layer.trainable = False\n",
    "\n",
    "    model.compile(\n",
    "        optimizer=tf.keras.optimizers.Adam(learning_rate=1e-4),\n",
    "        loss='binary_crossentropy',\n",
    "        metrics=['acc']\n",
    "    )\n",
    "\n",
    "# 러닝레이트 스케줄러만 사용\n",
    "callbacks = [\n",
    "    ReduceLROnPlateau(monitor='acc', factor=0.2, patience=5, verbose=1)\n",
    "]\n",
    "\n",
    "# 학습\n",
    "model.fit(\n",
    "    x=X, y=y,\n",
    "    batch_size=128,\n",
    "    epochs=10,\n",
    "    callbacks=callbacks,\n",
    "    use_multiprocessing=True,\n",
    "    workers=16\n",
    ")\n",
    "\n",
    "# 학습 완료 후 최종 모델 저장\n",
    "start_time = datetime.now().strftime('%Y%m%d_%H%M%S')\n",
    "os.makedirs('models', exist_ok=True)\n",
    "model.save(f'models/fine_tuned_{start_time}.h5')\n",
    "print(f\"▶ Fine-tuned model saved to models/fine_tuned_{start_time}.h5\")"
   ]
  },
  {
   "cell_type": "code",
   "execution_count": null,
   "id": "ff34f890",
   "metadata": {},
   "outputs": [],
   "source": []
  }
 ],
 "metadata": {
  "kernelspec": {
   "display_name": "tf-gpu2",
   "language": "python",
   "name": "python3"
  },
  "language_info": {
   "codemirror_mode": {
    "name": "ipython",
    "version": 3
   },
   "file_extension": ".py",
   "mimetype": "text/x-python",
   "name": "python",
   "nbconvert_exporter": "python",
   "pygments_lexer": "ipython3",
   "version": "3.8.20"
  }
 },
 "nbformat": 4,
 "nbformat_minor": 5
}
